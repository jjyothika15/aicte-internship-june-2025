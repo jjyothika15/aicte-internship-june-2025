{
  "cells": [
    {
      "cell_type": "markdown",
      "metadata": {
        "id": "view-in-github",
        "colab_type": "text"
      },
      "source": [
        "<a href=\"https://colab.research.google.com/github/jjyothika15/aicte-internship-june-2025/blob/main/garbage_classification.ipynb\" target=\"_parent\"><img src=\"https://colab.research.google.com/assets/colab-badge.svg\" alt=\"Open In Colab\"/></a>"
      ]
    },
    {
      "cell_type": "markdown",
      "metadata": {
        "id": "xU-SEQIItW8o"
      },
      "source": [
        "# 🗑️ Garbage Classification using EfficientNetV2B2\n",
        "## Project Description\n",
        "In this project, we aim to develop a sophisticated **garbage classification system** leveraging the **EfficientNetV2B2** architecture. Our primary dataset serves as a foundation for building models that can eventually automate waste segregation, a critical step in optimizing recycling and waste management, ultimately aiding in environmental conservation.\n",
        "\n",
        "**Goal:** To develop an accurate and efficient garbage classification model using EfficientNetV2B2 and transfer learning for automated waste sorting.\n",
        "\n",
        "## Challenges and Scope\n",
        "**Key Challenge:** A notable challenge encountered is the inherent **class imbalance** within the dataset.\n"
      ]
    },
    {
      "cell_type": "markdown",
      "metadata": {
        "id": "YF0VpZJuth97"
      },
      "source": [
        "## Transfer Learning\n",
        "\n",
        "Transfer Learning is a machine learning technique where a pre-trained model developed for a specific task is reused as the starting point for a model on a different but related task. This approach is beneficial when there is limited data for the new task, as the pre-trained model already has learned features that can be adapted.\n",
        "\n",
        "### Benefits\n",
        "- **Reduces training time**\n",
        "- **Leverages learned features**\n",
        "- **Improves performance** with less data\n",
        "\n",
        "## How Does It Work?\n",
        "1. Load a pretrained model (e.g., ResNet, EfficientNet).\n",
        "2. Freeze the pretrained layers (optional).\n",
        "3. Add new layers for your custom task.\n",
        "4. Train on your new dataset (can also fine-tune).\n",
        "\n",
        "---\n",
        "\n",
        "## EfficientNetV2B2: Transfer Learning Backbone\n",
        "\n",
        "EfficientNetV2B2 is a mid-sized model from the EfficientNetV2 family developed by Google.\n",
        "\n",
        "### ⚙️ Key Features\n",
        "- Fused MBConv blocks — enhance training stability and speed.\n",
        "- Progressive learning — better generalization with fewer computations.\n",
        "- Pretrained on ImageNet — ready for transfer learning.\n",
        "\n",
        "### Why Use EfficientNetV2B2?\n",
        "\n",
        "| Feature               | Description                              |\n",
        "|----------------------|------------------------------------------|\n",
        "| Balanced Performance | Good trade-off between speed and accuracy|\n",
        "| Scalable             | Great for moderately sized datasets       |\n",
        "| Efficient            | Trains faster, needs fewer resources     |\n"
      ]
    },
    {
      "cell_type": "code",
      "execution_count": null,
      "metadata": {
        "id": "HCQQSNsjtjMv"
      },
      "outputs": [],
      "source": [
        "\n",
        "import tensorflow as tf\n",
        "from tensorflow.keras.preprocessing.image import ImageDataGenerator\n",
        "from tensorflow.keras.applications import EfficientNetV2B2\n",
        "from tensorflow.keras.models import Model\n",
        "from tensorflow.keras.layers import Dense, GlobalAveragePooling2D\n",
        "from tensorflow.keras.optimizers import Adam\n",
        "from sklearn.utils.class_weight import compute_class_weight\n",
        "import matplotlib.pyplot as plt\n",
        "import numpy as np\n",
        "\n",
        "\n",
        "print(\"TensorFlow version:\", tf.__version__)\n"
      ]
    },
    {
      "cell_type": "code",
      "execution_count": null,
      "metadata": {
        "id": "v1ddmIDGtmcY"
      },
      "outputs": [],
      "source": [
        "\n",
        "from google.colab import drive\n",
        "drive.mount('/content/drive')\n"
      ]
    },
    {
      "cell_type": "code",
      "execution_count": null,
      "metadata": {
        "id": "Obv3Uixzuzjh"
      },
      "outputs": [],
      "source": [
        "dataset_path = '/content/drive/MyDrive/garbage_dataset'\n",
        "datagen = ImageDataGenerator(\n",
        "    rescale=1./255,\n",
        "    validation_split=0.2,\n",
        "    rotation_range=20,\n",
        "    zoom_range=0.2,\n",
        "    horizontal_flip=True\n",
        ")\n",
        "\n",
        "train_gen = datagen.flow_from_directory(\n",
        "    dataset_path,\n",
        "    target_size=(224, 224),\n",
        "    batch_size=32,\n",
        "    class_mode='categorical',\n",
        "    subset='training'\n",
        ")\n",
        "\n",
        "val_gen = datagen.flow_from_directory(\n",
        "    dataset_path,\n",
        "    target_size=(224, 224),\n",
        "    batch_size=32,\n",
        "    class_mode='categorical',\n",
        "    subset='validation'\n",
        ")\n"
      ]
    },
    {
      "cell_type": "code",
      "execution_count": null,
      "metadata": {
        "id": "BJP3xNVnyBVa"
      },
      "outputs": [],
      "source": [
        "class_weights = compute_class_weight(\n",
        "    class_weight='balanced',\n",
        "    classes=np.unique(train_gen.classes),\n",
        "    y=train_gen.classes\n",
        ")\n",
        "class_weight_dict = dict(enumerate(class_weights))\n",
        "print(\"Class weights:\", class_weight_dict)\n"
      ]
    },
    {
      "cell_type": "code",
      "execution_count": null,
      "metadata": {
        "id": "QywOeMzivMuI"
      },
      "outputs": [],
      "source": [
        "base_model = EfficientNetV2B2(weights='imagenet', include_top=False, input_shape=(224, 224, 3))\n",
        "base_model.trainable = True\n",
        "\n",
        "x = GlobalAveragePooling2D()(base_model.output)\n",
        "x = Dense(128, activation='relu')(x)\n",
        "output = Dense(train_gen.num_classes, activation='softmax')(x)\n",
        "\n",
        "model = Model(inputs=base_model.input, outputs=output)\n",
        "\n",
        "\n",
        "model.compile(optimizer=Adam(learning_rate=0.001),\n",
        "              loss='categorical_crossentropy',\n",
        "              metrics=['accuracy'])\n",
        "\n",
        "model.summary()\n"
      ]
    },
    {
      "cell_type": "code",
      "execution_count": null,
      "metadata": {
        "id": "3M6A9J21vVY7"
      },
      "outputs": [],
      "source": [
        "\n",
        "\n",
        "history = model.fit(\n",
        "    train_gen,\n",
        "    validation_data=val_gen,\n",
        "    epochs=10,\n",
        "    class_weight=class_weight_dict,\n",
        "    callbacks=[early_stop]\n",
        ")\n",
        "\n",
        "\n"
      ]
    },
    {
      "cell_type": "code",
      "execution_count": null,
      "metadata": {
        "id": "hcJq7Czj0aFb"
      },
      "outputs": [],
      "source": [
        "\n",
        "plt.figure(figsize=(12,5))\n",
        "\n",
        "\n",
        "plt.subplot(1, 2, 1)\n",
        "plt.plot(history.history['accuracy'], label='Train Acc')\n",
        "plt.plot(history.history['val_accuracy'], label='Val Acc')\n",
        "plt.title('Model Accuracy')\n",
        "plt.xlabel('Epoch')\n",
        "plt.ylabel('Accuracy')\n",
        "plt.legend()\n",
        "\n",
        "\n",
        "plt.subplot(1, 2, 2)\n",
        "plt.plot(history.history['loss'], label='Train Loss')\n",
        "plt.plot(history.history['val_loss'], label='Val Loss')\n",
        "plt.title('Model Loss')\n",
        "plt.xlabel('Epoch')\n",
        "plt.ylabel('Loss')\n",
        "plt.legend()\n",
        "\n",
        "plt.tight_layout()\n",
        "plt.show()\n"
      ]
    },
    {
      "cell_type": "code",
      "execution_count": null,
      "metadata": {
        "id": "A20Z7jyAybcP"
      },
      "outputs": [],
      "source": [
        "model.save('/content/efficientnetv2b2_garbage_classifier_final.h5')\n",
        "print(\"✅ Model saved.\")\n"
      ]
    },
    {
      "cell_type": "code",
      "execution_count": null,
      "metadata": {
        "id": "XhiupyofyhmI"
      },
      "outputs": [],
      "source": [
        "from tensorflow.keras.preprocessing import image\n",
        "from google.colab import files\n",
        "\n",
        "uploaded = files.upload()\n",
        "img_path = next(iter(uploaded))\n",
        "\n",
        "# Preprocess\n",
        "img = image.load_img(img_path, target_size=(224, 224))\n",
        "img_array = image.img_to_array(img) / 255.0\n",
        "img_array = np.expand_dims(img_array, axis=0)\n",
        "\n",
        "# Predict\n",
        "pred = model.predict(img_array)\n",
        "print(\"Raw prediction probabilities:\", prediction)\n",
        "pred_index = np.argmax(pred)\n",
        "\n",
        "top_3 = np.argsort(pred[0])[-3:][::-1]\n",
        "for i in top_3:\n",
        "    print(f\"{class_names[i]}: {pred[0][i]*100:.2f}%\")\n",
        "\n",
        "\n",
        "# Fix class label mapping\n",
        "class_names = [None] * len(train_gen.class_indices)\n",
        "for name, idx in train_gen.class_indices.items():\n",
        "    class_names[idx] = name\n",
        "\n",
        "predicted_label = class_names[pred_index]\n",
        "confidence = np.max(pred) * 100\n",
        "\n",
        "# Show result\n",
        "plt.imshow(img)\n",
        "plt.axis('off')\n",
        "plt.title(f\"Predicted: {predicted_label} ({confidence:.2f}%)\")\n",
        "plt.show()\n",
        "\n"
      ]
    }
  ],
  "metadata": {
    "colab": {
      "provenance": [],
      "gpuType": "T4",
      "mount_file_id": "1KsOMomo14tnqxq3ke_YgbkJPYbI155Zk",
      "authorship_tag": "ABX9TyMMNgSOoBIapTJOtzlZs5UU",
      "include_colab_link": true
    },
    "kernelspec": {
      "display_name": "Python 3",
      "name": "python3"
    },
    "language_info": {
      "name": "python"
    },
    "accelerator": "GPU"
  },
  "nbformat": 4,
  "nbformat_minor": 0
}