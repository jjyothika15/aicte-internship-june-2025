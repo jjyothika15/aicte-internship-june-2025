{
  "nbformat": 4,
  "nbformat_minor": 0,
  "metadata": {
    "colab": {
      "provenance": [],
      "authorship_tag": "ABX9TyN5ucis1KSaDLqED6OV8SmV",
      "include_colab_link": true
    },
    "kernelspec": {
      "name": "python3",
      "display_name": "Python 3"
    },
    "language_info": {
      "name": "python"
    }
  },
  "cells": [
    {
      "cell_type": "markdown",
      "metadata": {
        "id": "view-in-github",
        "colab_type": "text"
      },
      "source": [
        "<a href=\"https://colab.research.google.com/github/jjyothika15/aicte-internship-june-2025/blob/main/garbage.ipynb\" target=\"_parent\"><img src=\"https://colab.research.google.com/assets/colab-badge.svg\" alt=\"Open In Colab\"/></a>"
      ]
    },
    {
      "cell_type": "markdown",
      "source": [
        "# 🗑️ Garbage Classification using EfficientNetV2B2\n",
        "## Project Description\n",
        "In this project, we aim to develop a sophisticated **garbage classification system** leveraging the **EfficientNetV2B2** architecture. Our primary dataset serves as a foundation for building models that can eventually automate waste segregation, a critical step in optimizing recycling and waste management, ultimately aiding in environmental conservation.\n",
        "\n",
        "**Goal:** To develop an accurate and efficient garbage classification model using EfficientNetV2B2 and transfer learning for automated waste sorting.\n",
        "\n",
        "## Challenges and Scope\n",
        "**Key Challenge:** A notable challenge encountered is the inherent **class imbalance** within the dataset.\n"
      ],
      "metadata": {
        "id": "xU-SEQIItW8o"
      }
    },
    {
      "cell_type": "markdown",
      "source": [
        "## Transfer Learning\n",
        "\n",
        "Transfer Learning is a machine learning technique where a pre-trained model developed for a specific task is reused as the starting point for a model on a different but related task. This approach is beneficial when there is limited data for the new task, as the pre-trained model already has learned features that can be adapted.\n",
        "\n",
        "### Benefits\n",
        "- **Reduces training time**\n",
        "- **Leverages learned features**\n",
        "- **Improves performance** with less data\n",
        "\n",
        "## How Does It Work?\n",
        "1. Load a pretrained model (e.g., ResNet, EfficientNet).\n",
        "2. Freeze the pretrained layers (optional).\n",
        "3. Add new layers for your custom task.\n",
        "4. Train on your new dataset (can also fine-tune).\n",
        "\n",
        "---\n",
        "\n",
        "## EfficientNetV2B2: Transfer Learning Backbone\n",
        "\n",
        "EfficientNetV2B2 is a mid-sized model from the EfficientNetV2 family developed by Google.\n",
        "\n",
        "### ⚙️ Key Features\n",
        "- Fused MBConv blocks — enhance training stability and speed.\n",
        "- Progressive learning — better generalization with fewer computations.\n",
        "- Pretrained on ImageNet — ready for transfer learning.\n",
        "\n",
        "### Why Use EfficientNetV2B2?\n",
        "\n",
        "| Feature               | Description                              |\n",
        "|----------------------|------------------------------------------|\n",
        "| Balanced Performance | Good trade-off between speed and accuracy|\n",
        "| Scalable             | Great for moderately sized datasets       |\n",
        "| Efficient            | Trains faster, needs fewer resources     |\n"
      ],
      "metadata": {
        "id": "YF0VpZJuth97"
      }
    },
    {
      "cell_type": "code",
      "source": [
        "\n",
        "import tensorflow as tf\n",
        "from tensorflow.keras.preprocessing.image import ImageDataGenerator\n",
        "from tensorflow.keras.applications import EfficientNetV2B2\n",
        "from tensorflow.keras.models import Model\n",
        "from tensorflow.keras.layers import Dense, GlobalAveragePooling2D\n",
        "from tensorflow.keras.optimizers import Adam\n",
        "import matplotlib.pyplot as plt\n",
        "import numpy as np\n",
        "\n",
        "\n",
        "print(\"TensorFlow version:\", tf.__version__)\n"
      ],
      "metadata": {
        "id": "HCQQSNsjtjMv"
      },
      "execution_count": null,
      "outputs": []
    },
    {
      "cell_type": "code",
      "source": [
        "\n",
        "from google.colab import drive\n",
        "drive.mount('/content/drive')\n"
      ],
      "metadata": {
        "id": "v1ddmIDGtmcY"
      },
      "execution_count": null,
      "outputs": []
    },
    {
      "cell_type": "code",
      "source": [
        "dataset_path = '/content/drive/MyDrive/garbage_dataset'\n",
        "\n",
        "datagen = ImageDataGenerator(\n",
        "    rescale=1./255,\n",
        "    validation_split=0.2,\n",
        "    rotation_range=20,\n",
        "    zoom_range=0.2,\n",
        "    horizontal_flip=True\n",
        ")\n",
        "\n",
        "train_gen = datagen.flow_from_directory(\n",
        "    dataset_path,\n",
        "    target_size=(224, 224),\n",
        "    batch_size=32,\n",
        "    class_mode='categorical',\n",
        "    subset='training'\n",
        ")\n",
        "\n",
        "val_gen = datagen.flow_from_directory(\n",
        "    dataset_path,\n",
        "    target_size=(224, 224),\n",
        "    batch_size=32,\n",
        "    class_mode='categorical',\n",
        "    subset='validation'\n",
        ")\n"
      ],
      "metadata": {
        "id": "Obv3Uixzuzjh"
      },
      "execution_count": null,
      "outputs": []
    },
    {
      "cell_type": "code",
      "source": [
        "base_model = EfficientNetV2B2(weights='imagenet', include_top=False, input_shape=(224, 224, 3))\n",
        "\n",
        "x = GlobalAveragePooling2D()(base_model.output)\n",
        "x = Dense(128, activation='relu')(x)\n",
        "output = Dense(train_gen.num_classes, activation='softmax')(x)\n",
        "\n",
        "model = Model(inputs=base_model.input, outputs=output)\n",
        "\n",
        "\n",
        "base_model.trainable = False\n",
        "\n",
        "model.compile(optimizer=Adam(learning_rate=0.001),\n",
        "              loss='categorical_crossentropy',\n",
        "              metrics=['accuracy'])\n",
        "\n",
        "model.summary()\n"
      ],
      "metadata": {
        "id": "QywOeMzivMuI"
      },
      "execution_count": null,
      "outputs": []
    },
    {
      "cell_type": "code",
      "source": [
        "\n",
        "history = model.fit(\n",
        "    train_gen,\n",
        "    validation_data=val_gen,\n",
        "    epochs=5\n",
        ")\n"
      ],
      "metadata": {
        "id": "3M6A9J21vVY7"
      },
      "execution_count": null,
      "outputs": []
    },
    {
      "cell_type": "code",
      "source": [
        "\n",
        "model.save('/content/efficientnetv2b2_garbage_classifier.h5')\n",
        "print(\"✅ Model saved successfully!\")\n"
      ],
      "metadata": {
        "id": "QRYFFnifveIZ"
      },
      "execution_count": null,
      "outputs": []
    },
    {
      "cell_type": "code",
      "source": [
        "\n",
        "plt.figure(figsize=(12,5))\n",
        "\n",
        "\n",
        "plt.subplot(1, 2, 1)\n",
        "plt.plot(history.history['accuracy'], label='Train Acc')\n",
        "plt.plot(history.history['val_accuracy'], label='Val Acc')\n",
        "plt.title('Model Accuracy')\n",
        "plt.xlabel('Epoch')\n",
        "plt.ylabel('Accuracy')\n",
        "plt.legend()\n",
        "\n",
        "\n",
        "plt.subplot(1, 2, 2)\n",
        "plt.plot(history.history['loss'], label='Train Loss')\n",
        "plt.plot(history.history['val_loss'], label='Val Loss')\n",
        "plt.title('Model Loss')\n",
        "plt.xlabel('Epoch')\n",
        "plt.ylabel('Loss')\n",
        "plt.legend()\n",
        "\n",
        "plt.tight_layout()\n",
        "plt.show()\n"
      ],
      "metadata": {
        "id": "hcJq7Czj0aFb"
      },
      "execution_count": null,
      "outputs": []
    },
    {
      "cell_type": "code",
      "source": [],
      "metadata": {
        "id": "iZgTgspf0jNM"
      },
      "execution_count": null,
      "outputs": []
    }
  ]
}